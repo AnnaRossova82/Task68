{
 "cells": [
  {
   "cell_type": "code",
   "execution_count": 39,
   "id": "33eb82cd",
   "metadata": {},
   "outputs": [],
   "source": [
    "import tensorflow as tf\n",
    "from tensorflow.keras.datasets import cifar10\n",
    "from tensorflow.keras.models import Sequential\n",
    "from tensorflow.keras.layers import Conv2D, MaxPooling2D, Flatten, Dense\n",
    "import datetime"
   ]
  },
  {
   "cell_type": "code",
   "execution_count": 17,
   "id": "0a6d72d0",
   "metadata": {},
   "outputs": [],
   "source": [
    "#pip install tensorflow tensorboard"
   ]
  },
  {
   "cell_type": "code",
   "execution_count": 18,
   "id": "052e583b",
   "metadata": {},
   "outputs": [
    {
     "name": "stdout",
     "output_type": "stream",
     "text": [
      "The tensorboard extension is already loaded. To reload it, use:\n",
      "  %reload_ext tensorboard\n"
     ]
    }
   ],
   "source": [
    "from tensorflow.keras.callbacks import TensorBoard\n",
    "%load_ext tensorboard"
   ]
  },
  {
   "cell_type": "code",
   "execution_count": 19,
   "id": "b0cf93a8",
   "metadata": {},
   "outputs": [
    {
     "data": {
      "text/plain": [
       "Reusing TensorBoard on port 6006 (pid 8464), started 0:00:53 ago. (Use '!kill 8464' to kill it.)"
      ]
     },
     "metadata": {},
     "output_type": "display_data"
    },
    {
     "data": {
      "text/html": [
       "\n",
       "      <iframe id=\"tensorboard-frame-3666579779fa9fd9\" width=\"100%\" height=\"800\" frameborder=\"0\">\n",
       "      </iframe>\n",
       "      <script>\n",
       "        (function() {\n",
       "          const frame = document.getElementById(\"tensorboard-frame-3666579779fa9fd9\");\n",
       "          const url = new URL(\"/\", window.location);\n",
       "          const port = 6006;\n",
       "          if (port) {\n",
       "            url.port = port;\n",
       "          }\n",
       "          frame.src = url;\n",
       "        })();\n",
       "      </script>\n",
       "    "
      ],
      "text/plain": [
       "<IPython.core.display.HTML object>"
      ]
     },
     "metadata": {},
     "output_type": "display_data"
    }
   ],
   "source": [
    "%tensorboard --logdir=logs/\n"
   ]
  },
  {
   "cell_type": "code",
   "execution_count": 26,
   "id": "310c2ce2",
   "metadata": {},
   "outputs": [],
   "source": [
    "log_dir = \"‪E:/logs/\"\n",
    "tensorboard_callback = TensorBoard(log_dir=log_dir)"
   ]
  },
  {
   "cell_type": "code",
   "execution_count": 35,
   "id": "face347e",
   "metadata": {},
   "outputs": [
    {
     "data": {
      "text/plain": [
       "ERROR: Timed out waiting for TensorBoard to start. It may still be running as pid 4184."
      ]
     },
     "metadata": {},
     "output_type": "display_data"
    }
   ],
   "source": [
    "%tensorboard --logdir logs/fit"
   ]
  },
  {
   "cell_type": "code",
   "execution_count": 29,
   "id": "12f28e9b",
   "metadata": {},
   "outputs": [],
   "source": [
    "# Завантаження і передобробка даних\n",
    "(x_train, y_train), (x_test, y_test) = cifar10.load_data()\n",
    "x_train = x_train / 255.0\n",
    "x_test = x_test / 255.0\n",
    "\n",
    "# Створення моделі\n",
    "model = Sequential()\n",
    "model.add(Conv2D(32, (3, 3), activation='relu', padding='same', input_shape=(32, 32, 3)))\n",
    "model.add(MaxPooling2D((2, 2)))\n",
    "model.add(Conv2D(64, (3, 3), activation='relu', padding='same'))\n",
    "model.add(MaxPooling2D((2, 2)))\n",
    "model.add(Conv2D(64, (3, 3), activation='relu', padding='same'))\n",
    "model.add(Flatten())\n",
    "model.add(Dense(64, activation='relu'))\n",
    "model.add(Dense(10, activation='softmax'))\n",
    "\n",
    "# Компіляція моделі\n",
    "#model.compile(optimizer='adam', loss='binary_crossentropy', metrics=['accuracy', 'precision', 'recall'])\n"
   ]
  },
  {
   "cell_type": "code",
   "execution_count": 36,
   "id": "357290e5",
   "metadata": {},
   "outputs": [],
   "source": [
    "model.compile(optimizer='adam',\n",
    "              loss=tf.keras.losses.SparseCategoricalCrossentropy(from_logits=True),\n",
    "              metrics=['accuracy'])"
   ]
  },
  {
   "cell_type": "code",
   "execution_count": 40,
   "id": "46e34806",
   "metadata": {},
   "outputs": [],
   "source": [
    "log_dir = \"logs/fit/\" + datetime.datetime.now().strftime(\"%Y%m%d-%H%M%S\")\n",
    "tensorboard_callback = tf.keras.callbacks.TensorBoard(log_dir=log_dir, histogram_freq=1)"
   ]
  },
  {
   "cell_type": "code",
   "execution_count": 41,
   "id": "f16ec012",
   "metadata": {},
   "outputs": [
    {
     "name": "stdout",
     "output_type": "stream",
     "text": [
      "Epoch 1/7\n",
      "1563/1563 [==============================] - 547s 336ms/step - loss: 1.4150 - accuracy: 0.4888 - val_loss: 1.1492 - val_accuracy: 0.5942\n",
      "Epoch 2/7\n",
      "1563/1563 [==============================] - 466s 298ms/step - loss: 0.9930 - accuracy: 0.6506 - val_loss: 0.9227 - val_accuracy: 0.6802\n",
      "Epoch 3/7\n",
      "1563/1563 [==============================] - 425s 272ms/step - loss: 0.8369 - accuracy: 0.7067 - val_loss: 0.8670 - val_accuracy: 0.7003\n",
      "Epoch 4/7\n",
      "1563/1563 [==============================] - 416s 266ms/step - loss: 0.7327 - accuracy: 0.7429 - val_loss: 0.8113 - val_accuracy: 0.7194\n",
      "Epoch 5/7\n",
      "1563/1563 [==============================] - 6493s 4s/step - loss: 0.6486 - accuracy: 0.7715 - val_loss: 0.8007 - val_accuracy: 0.7289\n",
      "Epoch 6/7\n",
      "1563/1563 [==============================] - 392s 251ms/step - loss: 0.5706 - accuracy: 0.7996 - val_loss: 0.8129 - val_accuracy: 0.7269\n",
      "Epoch 7/7\n",
      "1563/1563 [==============================] - 436s 279ms/step - loss: 0.5088 - accuracy: 0.8193 - val_loss: 0.8293 - val_accuracy: 0.7236\n"
     ]
    },
    {
     "data": {
      "text/plain": [
       "<keras.callbacks.History at 0x25ecf4d4070>"
      ]
     },
     "execution_count": 41,
     "metadata": {},
     "output_type": "execute_result"
    }
   ],
   "source": [
    "# навчання моделі\n",
    "model.fit(x_train, y_train, validation_data=(x_test, y_test), epochs=7, callbacks=[tensorboard_callback])\n",
    "\n"
   ]
  },
  {
   "cell_type": "code",
   "execution_count": 42,
   "id": "7799773a",
   "metadata": {},
   "outputs": [
    {
     "name": "stdout",
     "output_type": "stream",
     "text": [
      "313/313 - 16s - loss: 0.8293 - accuracy: 0.7236 - 16s/epoch - 50ms/step\n",
      "Точність на тестовому наборі даних: 0.7235999703407288\n"
     ]
    }
   ],
   "source": [
    "# Оцінка моделі\n",
    "test_loss, test_acc = model.evaluate(x_test, y_test, verbose=2)\n",
    "print('Точність на тестовому наборі даних:', test_acc)\n"
   ]
  },
  {
   "cell_type": "code",
   "execution_count": 44,
   "id": "51e117be",
   "metadata": {},
   "outputs": [
    {
     "data": {
      "text/plain": [
       "ERROR: Timed out waiting for TensorBoard to start. It may still be running as pid 2224."
      ]
     },
     "metadata": {},
     "output_type": "display_data"
    }
   ],
   "source": [
    "tensorboard dev upload --logdir \\ 'logs/'"
   ]
  },
  {
   "cell_type": "code",
   "execution_count": null,
   "id": "4b0bd244",
   "metadata": {},
   "outputs": [],
   "source": []
  }
 ],
 "metadata": {
  "kernelspec": {
   "display_name": "Python 3 (ipykernel)",
   "language": "python",
   "name": "python3"
  },
  "language_info": {
   "codemirror_mode": {
    "name": "ipython",
    "version": 3
   },
   "file_extension": ".py",
   "mimetype": "text/x-python",
   "name": "python",
   "nbconvert_exporter": "python",
   "pygments_lexer": "ipython3",
   "version": "3.9.13"
  }
 },
 "nbformat": 4,
 "nbformat_minor": 5
}
